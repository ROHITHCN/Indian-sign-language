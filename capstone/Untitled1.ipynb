{
 "cells": [
  {
   "cell_type": "code",
   "execution_count": 1,
   "id": "f02f4282",
   "metadata": {},
   "outputs": [],
   "source": [
    "import pandas"
   ]
  },
  {
   "cell_type": "code",
   "execution_count": 3,
   "id": "f36fa547",
   "metadata": {},
   "outputs": [
    {
     "name": "stderr",
     "output_type": "stream",
     "text": [
      "2023-03-04 16:03:12.693 \n",
      "  \u001b[33m\u001b[1mWarning:\u001b[0m to view this Streamlit app on a browser, run it with the following\n",
      "  command:\n",
      "\n",
      "    streamlit run D:\\softwares\\python310.5\\lib\\site-packages\\ipykernel_launcher.py [ARGUMENTS]\n"
     ]
    }
   ],
   "source": [
    "# Import all of the dependencies\n",
    "import streamlit as st\n",
    "import os \n",
    "\n",
    "#import imageio \n",
    "\n",
    "import tensorflow as tf \n",
    "#from utils import load_data, num_to_char\n",
    "#from modelutil import load_model\n",
    "\n",
    "# Set the layout to the streamlit app as wide \n",
    "st.set_page_config(layout='wide')\n",
    "\n",
    "# Setup the sidebar\n",
    "with st.sidebar: \n",
    "    #st.image('https://www.onepointltd.com/wp-content/uploads/2020/03/inno2.png')\n",
    "    st.title('LipBuddy')\n",
    "    st.info('This application is originally developed from the LipNet deep learning model.')\n",
    "\n",
    "st.title('LipNet Full Stack App') \n",
    "# Generating a list of options or videos \n",
    "#options = os.listdir(os.path.join('..', 'data', 's1'))\n",
    "options=['a','b']\n",
    "selected_video = st.selectbox('Choose video', options)\n",
    "\n"
   ]
  },
  {
   "cell_type": "code",
   "execution_count": null,
   "id": "361b298c",
   "metadata": {},
   "outputs": [],
   "source": [
    "# Generate two columns \n",
    "col1, col2 = st.columns(2)\n",
    "\n",
    "\n",
    "if options: \n",
    "\n",
    "    # Rendering the video \n",
    "    with col1: \n",
    "        st.info('The video below displays the converted video in mp4 format')\n",
    "        file_path = os.path.join('..','data','s1', selected_video)\n",
    "        os.system(f'ffmpeg -i {file_path} -vcodec libx264 test_video.mp4 -y')\n",
    "\n",
    "        # Rendering inside of the app\n",
    "        video = open('test_video.mp4', 'rb') \n",
    "        video_bytes = video.read() \n",
    "        st.video(video_bytes)\n",
    "\n",
    "\n",
    "    with col2: \n",
    "        st.info('This is all the machine learning model sees when making a prediction')\n",
    "        video, annotations = load_data(tf.convert_to_tensor(file_path))\n",
    "        imageio.mimsave('animation.gif', video, fps=10)\n",
    "        st.image('animation.gif', width=400) \n",
    "\n",
    "        st.info('This is the output of the machine learning model as tokens')\n",
    "        model = load_model()\n",
    "        yhat = model.predict(tf.expand_dims(video, axis=0))\n",
    "        decoder = tf.keras.backend.ctc_decode(yhat, [75], greedy=True)[0][0].numpy()\n",
    "        st.text(decoder)\n",
    "\n",
    "        # Convert prediction to text\n",
    "        st.info('Decode the raw tokens into words')\n",
    "        converted_prediction = tf.strings.reduce_join(num_to_char(decoder)).numpy().decode('utf-8')\n",
    "        st.text(converted_prediction)\n",
    "        \n"
   ]
  }
 ],
 "metadata": {
  "kernelspec": {
   "display_name": "Python 3 (ipykernel)",
   "language": "python",
   "name": "python3"
  },
  "language_info": {
   "codemirror_mode": {
    "name": "ipython",
    "version": 3
   },
   "file_extension": ".py",
   "mimetype": "text/x-python",
   "name": "python",
   "nbconvert_exporter": "python",
   "pygments_lexer": "ipython3",
   "version": "3.10.5"
  }
 },
 "nbformat": 4,
 "nbformat_minor": 5
}
