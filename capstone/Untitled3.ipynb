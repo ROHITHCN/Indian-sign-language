{
 "cells": [
  {
   "cell_type": "code",
   "execution_count": 3,
   "id": "cab4a575",
   "metadata": {},
   "outputs": [
    {
     "name": "stdout",
     "output_type": "stream",
     "text": [
      "{2: 8, 3: 7}\n"
     ]
    }
   ],
   "source": [
    "arr=[8,4,3,1,5,3,7,2,1]\n",
    "su=10\n",
    "s=set(arr)\n",
    "fs=[]\n",
    "d={}\n",
    "for i in s:\n",
    "    temp=su-i\n",
    "    fs.append(i)\n",
    "    if(temp in s and temp not in fs):\n",
    "        d[i]=temp\n",
    "print(d)"
   ]
  },
  {
   "cell_type": "code",
   "execution_count": null,
   "id": "f79bb3ef",
   "metadata": {},
   "outputs": [],
   "source": []
  }
 ],
 "metadata": {
  "kernelspec": {
   "display_name": "Python 3 (ipykernel)",
   "language": "python",
   "name": "python3"
  },
  "language_info": {
   "codemirror_mode": {
    "name": "ipython",
    "version": 3
   },
   "file_extension": ".py",
   "mimetype": "text/x-python",
   "name": "python",
   "nbconvert_exporter": "python",
   "pygments_lexer": "ipython3",
   "version": "3.10.5"
  }
 },
 "nbformat": 4,
 "nbformat_minor": 5
}
